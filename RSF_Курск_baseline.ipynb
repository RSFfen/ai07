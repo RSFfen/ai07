{
 "cells": [
  {
   "cell_type": "markdown",
   "metadata": {
    "id": "fnE1_J-4dhSR"
   },
   "source": [
    "## Загрузим нужные библиотеки"
   ]
  },
  {
   "cell_type": "code",
   "execution_count": 220,
   "metadata": {},
   "outputs": [],
   "source": [
    "#pip install beautifulsoup4\n",
    "#!pip install lxml"
   ]
  },
  {
   "cell_type": "code",
   "execution_count": 221,
   "metadata": {},
   "outputs": [],
   "source": [
    "#!pip install pymorphy2            \n",
    "#!pip install pymorphy2-dicts      \n",
    "#!pip install DAWG-Python "
   ]
  },
  {
   "cell_type": "code",
   "execution_count": 222,
   "metadata": {
    "id": "uaKzqUxsdjDa"
   },
   "outputs": [],
   "source": [
    "import pandas as pd\n",
    "import seaborn as sns\n",
    "import matplotlib.pyplot as plt\n",
    "\n",
    "from tqdm.auto import tqdm, trange  # Tqdm — библиотека для создания индикаторов выполнения\n",
    "\n",
    "from bs4 import BeautifulSoup\n",
    "import re\n",
    "\n",
    "# NLTK - библиотек Python для решения задач обработки естественного языка\n",
    "import nltk\n",
    "from nltk.corpus import stopwords                 # Библиотека стоп-слов\n",
    "from nltk import word_tokenize                    # Токенизатор\n",
    "\n",
    "import pymorphy2\n",
    "\n",
    "# TfidfVectorizer - класс для преобразования текста в частотные векторы слов\n",
    "from sklearn.feature_extraction.text import TfidfVectorizer\n",
    "\n",
    "from sklearn.model_selection import train_test_split\n",
    "from sklearn.pipeline import Pipeline\n",
    "from sklearn.feature_extraction.text import CountVectorizer\n",
    "from sklearn.feature_extraction.text import TfidfTransformer\n",
    "from sklearn.linear_model import SGDClassifier\n",
    "from sklearn.metrics import accuracy_score\n",
    "from sklearn.metrics import classification_report\n",
    "\n",
    "%matplotlib inline"
   ]
  },
  {
   "cell_type": "code",
   "execution_count": 223,
   "metadata": {
    "id": "2scLoULoXkT0"
   },
   "outputs": [],
   "source": [
    "df = pd.read_csv(\"./content/train_dataset_train.csv\")"
   ]
  },
  {
   "cell_type": "code",
   "execution_count": 224,
   "metadata": {},
   "outputs": [
    {
     "data": {
      "text/plain": [
       "(2000, 5)"
      ]
     },
     "execution_count": 224,
     "metadata": {},
     "output_type": "execute_result"
    }
   ],
   "source": [
    "df.shape  # Вывод размера"
   ]
  },
  {
   "cell_type": "code",
   "execution_count": 225,
   "metadata": {},
   "outputs": [
    {
     "data": {
      "text/html": [
       "<div>\n",
       "<style scoped>\n",
       "    .dataframe tbody tr th:only-of-type {\n",
       "        vertical-align: middle;\n",
       "    }\n",
       "\n",
       "    .dataframe tbody tr th {\n",
       "        vertical-align: top;\n",
       "    }\n",
       "\n",
       "    .dataframe thead th {\n",
       "        text-align: right;\n",
       "    }\n",
       "</style>\n",
       "<table border=\"1\" class=\"dataframe\">\n",
       "  <thead>\n",
       "    <tr style=\"text-align: right;\">\n",
       "      <th></th>\n",
       "      <th>id</th>\n",
       "      <th>Текст Сообщения</th>\n",
       "      <th>Тематика</th>\n",
       "      <th>Ответственное лицо</th>\n",
       "      <th>Категория</th>\n",
       "    </tr>\n",
       "  </thead>\n",
       "  <tbody>\n",
       "    <tr>\n",
       "      <th>0</th>\n",
       "      <td>2246</td>\n",
       "      <td>Помогите начальник Льговского рэс не реагирует...</td>\n",
       "      <td>Нарушения, связанные с содержанием электросети...</td>\n",
       "      <td>Администрация Льговского района</td>\n",
       "      <td>3</td>\n",
       "    </tr>\n",
       "    <tr>\n",
       "      <th>1</th>\n",
       "      <td>380</td>\n",
       "      <td>&lt;p&gt;По фасаду дома по адресу ул. Урицкого 22 пр...</td>\n",
       "      <td>Аварийные деревья</td>\n",
       "      <td>Администрация города Курска</td>\n",
       "      <td>3</td>\n",
       "    </tr>\n",
       "    <tr>\n",
       "      <th>2</th>\n",
       "      <td>2240</td>\n",
       "      <td>Агресивные собаки. На радуге там стая из подро...</td>\n",
       "      <td>Безнадзорные животные</td>\n",
       "      <td>Администрация города Курска</td>\n",
       "      <td>1</td>\n",
       "    </tr>\n",
       "    <tr>\n",
       "      <th>3</th>\n",
       "      <td>596</td>\n",
       "      <td>&lt;p&gt;На пересечении &amp;nbsp;улиц Сосновская и Бере...</td>\n",
       "      <td>Нескошенная сорная растительность в местах общ...</td>\n",
       "      <td>Комитет дорожного хозяйства города Курска</td>\n",
       "      <td>3</td>\n",
       "    </tr>\n",
       "    <tr>\n",
       "      <th>4</th>\n",
       "      <td>1797</td>\n",
       "      <td>&lt;p style=`text-align:justify;`&gt;&lt;span style=`ba...</td>\n",
       "      <td>Аварийные деревья</td>\n",
       "      <td>Комитет городского хозяйства города Курска</td>\n",
       "      <td>3</td>\n",
       "    </tr>\n",
       "  </tbody>\n",
       "</table>\n",
       "</div>"
      ],
      "text/plain": [
       "     id                                    Текст Сообщения  \\\n",
       "0  2246  Помогите начальник Льговского рэс не реагирует...   \n",
       "1   380  <p>По фасаду дома по адресу ул. Урицкого 22 пр...   \n",
       "2  2240  Агресивные собаки. На радуге там стая из подро...   \n",
       "3   596  <p>На пересечении &nbsp;улиц Сосновская и Бере...   \n",
       "4  1797  <p style=`text-align:justify;`><span style=`ba...   \n",
       "\n",
       "                                            Тематика  \\\n",
       "0  Нарушения, связанные с содержанием электросети...   \n",
       "1                                  Аварийные деревья   \n",
       "2                              Безнадзорные животные   \n",
       "3  Нескошенная сорная растительность в местах общ...   \n",
       "4                                  Аварийные деревья   \n",
       "\n",
       "                           Ответственное лицо  Категория  \n",
       "0             Администрация Льговского района          3  \n",
       "1                 Администрация города Курска          3  \n",
       "2                 Администрация города Курска          1  \n",
       "3   Комитет дорожного хозяйства города Курска          3  \n",
       "4  Комитет городского хозяйства города Курска          3  "
      ]
     },
     "execution_count": 225,
     "metadata": {},
     "output_type": "execute_result"
    }
   ],
   "source": [
    "df.head(5)   # Вывод первых 5 строк"
   ]
  },
  {
   "cell_type": "code",
   "execution_count": 226,
   "metadata": {},
   "outputs": [
    {
     "data": {
      "text/html": [
       "<div>\n",
       "<style scoped>\n",
       "    .dataframe tbody tr th:only-of-type {\n",
       "        vertical-align: middle;\n",
       "    }\n",
       "\n",
       "    .dataframe tbody tr th {\n",
       "        vertical-align: top;\n",
       "    }\n",
       "\n",
       "    .dataframe thead th {\n",
       "        text-align: right;\n",
       "    }\n",
       "</style>\n",
       "<table border=\"1\" class=\"dataframe\">\n",
       "  <thead>\n",
       "    <tr style=\"text-align: right;\">\n",
       "      <th></th>\n",
       "      <th>Текст Сообщения</th>\n",
       "      <th>Тематика</th>\n",
       "      <th>Ответственное лицо</th>\n",
       "    </tr>\n",
       "  </thead>\n",
       "  <tbody>\n",
       "    <tr>\n",
       "      <th>count</th>\n",
       "      <td>2000</td>\n",
       "      <td>2000</td>\n",
       "      <td>2000</td>\n",
       "    </tr>\n",
       "    <tr>\n",
       "      <th>unique</th>\n",
       "      <td>1974</td>\n",
       "      <td>161</td>\n",
       "      <td>75</td>\n",
       "    </tr>\n",
       "    <tr>\n",
       "      <th>top</th>\n",
       "      <td>Свалка мусора</td>\n",
       "      <td>Нарушение дорожного покрытия (ямы)  на дорогах...</td>\n",
       "      <td>Администрация города Курска</td>\n",
       "    </tr>\n",
       "    <tr>\n",
       "      <th>freq</th>\n",
       "      <td>8</td>\n",
       "      <td>155</td>\n",
       "      <td>421</td>\n",
       "    </tr>\n",
       "  </tbody>\n",
       "</table>\n",
       "</div>"
      ],
      "text/plain": [
       "       Текст Сообщения                                           Тематика  \\\n",
       "count             2000                                               2000   \n",
       "unique            1974                                                161   \n",
       "top      Свалка мусора  Нарушение дорожного покрытия (ямы)  на дорогах...   \n",
       "freq                 8                                                155   \n",
       "\n",
       "                 Ответственное лицо  \n",
       "count                          2000  \n",
       "unique                           75  \n",
       "top     Администрация города Курска  \n",
       "freq                            421  "
      ]
     },
     "execution_count": 226,
     "metadata": {},
     "output_type": "execute_result"
    }
   ],
   "source": [
    "df.describe(include=[object])   # Вывод описательной статистики набора данных"
   ]
  },
  {
   "cell_type": "code",
   "execution_count": 227,
   "metadata": {},
   "outputs": [
    {
     "name": "stdout",
     "output_type": "stream",
     "text": [
      "[ 3  1 16  0  6  8  4 13 10 11 14  7  5 15  2  9 12] 17\n"
     ]
    }
   ],
   "source": [
    "print(df['Категория'].unique(), len(df['Категория'].unique()))   # Вывод уникальных значений целевой переменной (категорий) и их количества"
   ]
  },
  {
   "cell_type": "code",
   "execution_count": 228,
   "metadata": {},
   "outputs": [
    {
     "data": {
      "text/plain": [
       "3     954\n",
       "0     478\n",
       "16    149\n",
       "8     139\n",
       "4     108\n",
       "10     48\n",
       "7      27\n",
       "1      25\n",
       "11     19\n",
       "5      12\n",
       "13     11\n",
       "6      10\n",
       "15      7\n",
       "9       5\n",
       "14      4\n",
       "2       3\n",
       "12      1\n",
       "Name: Категория, dtype: int64"
      ]
     },
     "execution_count": 228,
     "metadata": {},
     "output_type": "execute_result"
    }
   ],
   "source": [
    "df['Категория'].value_counts()  # Количество объектов каждого класса в размеченном наборе данных"
   ]
  },
  {
   "cell_type": "code",
   "execution_count": 229,
   "metadata": {},
   "outputs": [
    {
     "data": {
      "text/plain": [
       "<AxesSubplot:xlabel='Категория', ylabel='Count'>"
      ]
     },
     "execution_count": 229,
     "metadata": {},
     "output_type": "execute_result"
    },
    {
     "data": {
      "image/png": "[encoded data removed]",
      "text/plain": [
       "<Figure size 432x288 with 1 Axes>"
      ]
     },
     "metadata": {
      "needs_background": "light"
     },
     "output_type": "display_data"
    }
   ],
   "source": [
    "sns.histplot(data=df['Категория'])  # Построение гистограммы, проверка сбалансированности исходного набора данных"
   ]
  },
  {
   "cell_type": "code",
   "execution_count": 230,
   "metadata": {},
   "outputs": [
    {
     "data": {
      "text/html": [
       "<div>\n",
       "<style scoped>\n",
       "    .dataframe tbody tr th:only-of-type {\n",
       "        vertical-align: middle;\n",
       "    }\n",
       "\n",
       "    .dataframe tbody tr th {\n",
       "        vertical-align: top;\n",
       "    }\n",
       "\n",
       "    .dataframe thead th {\n",
       "        text-align: right;\n",
       "    }\n",
       "</style>\n",
       "<table border=\"1\" class=\"dataframe\">\n",
       "  <thead>\n",
       "    <tr style=\"text-align: right;\">\n",
       "      <th></th>\n",
       "      <th>id</th>\n",
       "      <th>Текст Сообщения</th>\n",
       "      <th>Тематика</th>\n",
       "      <th>Ответственное лицо</th>\n",
       "      <th>Категория</th>\n",
       "    </tr>\n",
       "  </thead>\n",
       "  <tbody>\n",
       "    <tr>\n",
       "      <th>0</th>\n",
       "      <td>2246</td>\n",
       "      <td>Помогите начальник Льговского рэс не реагирует...</td>\n",
       "      <td>Нарушения, связанные с содержанием электросети...</td>\n",
       "      <td>Администрация Льговского района</td>\n",
       "      <td>3</td>\n",
       "    </tr>\n",
       "    <tr>\n",
       "      <th>1</th>\n",
       "      <td>380</td>\n",
       "      <td>&lt;p&gt;По фасаду дома по адресу ул. Урицкого 22 пр...</td>\n",
       "      <td>Аварийные деревья</td>\n",
       "      <td>Администрация города Курска</td>\n",
       "      <td>3</td>\n",
       "    </tr>\n",
       "    <tr>\n",
       "      <th>2</th>\n",
       "      <td>2240</td>\n",
       "      <td>Агресивные собаки. На радуге там стая из подро...</td>\n",
       "      <td>Безнадзорные животные</td>\n",
       "      <td>Администрация города Курска</td>\n",
       "      <td>1</td>\n",
       "    </tr>\n",
       "    <tr>\n",
       "      <th>3</th>\n",
       "      <td>596</td>\n",
       "      <td>&lt;p&gt;На пересечении &amp;nbsp;улиц Сосновская и Бере...</td>\n",
       "      <td>Нескошенная сорная растительность в местах общ...</td>\n",
       "      <td>Комитет дорожного хозяйства города Курска</td>\n",
       "      <td>3</td>\n",
       "    </tr>\n",
       "    <tr>\n",
       "      <th>4</th>\n",
       "      <td>1797</td>\n",
       "      <td>&lt;p style=`text-align:justify;`&gt;&lt;span style=`ba...</td>\n",
       "      <td>Аварийные деревья</td>\n",
       "      <td>Комитет городского хозяйства города Курска</td>\n",
       "      <td>3</td>\n",
       "    </tr>\n",
       "    <tr>\n",
       "      <th>...</th>\n",
       "      <td>...</td>\n",
       "      <td>...</td>\n",
       "      <td>...</td>\n",
       "      <td>...</td>\n",
       "      <td>...</td>\n",
       "    </tr>\n",
       "    <tr>\n",
       "      <th>1995</th>\n",
       "      <td>1356</td>\n",
       "      <td>&lt;p&gt;22.12.21 в вечернее время появилась вонь от...</td>\n",
       "      <td>Неприятные запахи</td>\n",
       "      <td>Комитет природных ресурсов Курской области</td>\n",
       "      <td>16</td>\n",
       "    </tr>\n",
       "    <tr>\n",
       "      <th>1996</th>\n",
       "      <td>243</td>\n",
       "      <td>&lt;p&gt;Добрый день! Хочу сообщить о такой проблеме...</td>\n",
       "      <td>Парковки на дорогах в границах городских округ...</td>\n",
       "      <td>Администрация города Курска</td>\n",
       "      <td>0</td>\n",
       "    </tr>\n",
       "    <tr>\n",
       "      <th>1997</th>\n",
       "      <td>2350</td>\n",
       "      <td>Состоят 3 засохшие дерева (2 большие  берёзы и...</td>\n",
       "      <td>Аварийные деревья</td>\n",
       "      <td>Администрация города Курска</td>\n",
       "      <td>3</td>\n",
       "    </tr>\n",
       "    <tr>\n",
       "      <th>1998</th>\n",
       "      <td>1937</td>\n",
       "      <td>Пожалуйста роман Владимирович, в скором времен...</td>\n",
       "      <td>Нарушение дорожного покрытия (ямы)  на дорогах...</td>\n",
       "      <td>Администрация города Курска</td>\n",
       "      <td>0</td>\n",
       "    </tr>\n",
       "    <tr>\n",
       "      <th>1999</th>\n",
       "      <td>1185</td>\n",
       "      <td>&lt;p&gt;Сдан ПЦР-тест 29.10.2021г., но результат те...</td>\n",
       "      <td>ПЦР-тест, тест на антитела</td>\n",
       "      <td>Комитет здравоохранения Курской области</td>\n",
       "      <td>4</td>\n",
       "    </tr>\n",
       "  </tbody>\n",
       "</table>\n",
       "<p>2000 rows × 5 columns</p>\n",
       "</div>"
      ],
      "text/plain": [
       "        id                                    Текст Сообщения  \\\n",
       "0     2246  Помогите начальник Льговского рэс не реагирует...   \n",
       "1      380  <p>По фасаду дома по адресу ул. Урицкого 22 пр...   \n",
       "2     2240  Агресивные собаки. На радуге там стая из подро...   \n",
       "3      596  <p>На пересечении &nbsp;улиц Сосновская и Бере...   \n",
       "4     1797  <p style=`text-align:justify;`><span style=`ba...   \n",
       "...    ...                                                ...   \n",
       "1995  1356  <p>22.12.21 в вечернее время появилась вонь от...   \n",
       "1996   243  <p>Добрый день! Хочу сообщить о такой проблеме...   \n",
       "1997  2350  Состоят 3 засохшие дерева (2 большие  берёзы и...   \n",
       "1998  1937  Пожалуйста роман Владимирович, в скором времен...   \n",
       "1999  1185  <p>Сдан ПЦР-тест 29.10.2021г., но результат те...   \n",
       "\n",
       "                                               Тематика  \\\n",
       "0     Нарушения, связанные с содержанием электросети...   \n",
       "1                                     Аварийные деревья   \n",
       "2                                 Безнадзорные животные   \n",
       "3     Нескошенная сорная растительность в местах общ...   \n",
       "4                                     Аварийные деревья   \n",
       "...                                                 ...   \n",
       "1995                                  Неприятные запахи   \n",
       "1996  Парковки на дорогах в границах городских округ...   \n",
       "1997                                  Аварийные деревья   \n",
       "1998  Нарушение дорожного покрытия (ямы)  на дорогах...   \n",
       "1999                         ПЦР-тест, тест на антитела   \n",
       "\n",
       "                              Ответственное лицо  Категория  \n",
       "0                Администрация Льговского района          3  \n",
       "1                    Администрация города Курска          3  \n",
       "2                    Администрация города Курска          1  \n",
       "3      Комитет дорожного хозяйства города Курска          3  \n",
       "4     Комитет городского хозяйства города Курска          3  \n",
       "...                                          ...        ...  \n",
       "1995  Комитет природных ресурсов Курской области         16  \n",
       "1996                 Администрация города Курска          0  \n",
       "1997                 Администрация города Курска          3  \n",
       "1998                 Администрация города Курска          0  \n",
       "1999     Комитет здравоохранения Курской области          4  \n",
       "\n",
       "[2000 rows x 5 columns]"
      ]
     },
     "execution_count": 230,
     "metadata": {},
     "output_type": "execute_result"
    }
   ],
   "source": [
    "df"
   ]
  },
  {
   "cell_type": "code",
   "execution_count": 231,
   "metadata": {},
   "outputs": [],
   "source": [
    "# Колонку id делаем индексом\n",
    "data = df.set_index('id') \n",
    "#data"
   ]
  },
  {
   "cell_type": "code",
   "execution_count": 232,
   "metadata": {},
   "outputs": [
    {
     "data": {
      "text/html": [
       "<div>\n",
       "<style scoped>\n",
       "    .dataframe tbody tr th:only-of-type {\n",
       "        vertical-align: middle;\n",
       "    }\n",
       "\n",
       "    .dataframe tbody tr th {\n",
       "        vertical-align: top;\n",
       "    }\n",
       "\n",
       "    .dataframe thead th {\n",
       "        text-align: right;\n",
       "    }\n",
       "</style>\n",
       "<table border=\"1\" class=\"dataframe\">\n",
       "  <thead>\n",
       "    <tr style=\"text-align: right;\">\n",
       "      <th></th>\n",
       "      <th>Категория</th>\n",
       "      <th>text</th>\n",
       "    </tr>\n",
       "    <tr>\n",
       "      <th>id</th>\n",
       "      <th></th>\n",
       "      <th></th>\n",
       "    </tr>\n",
       "  </thead>\n",
       "  <tbody>\n",
       "    <tr>\n",
       "      <th>2246</th>\n",
       "      <td>3</td>\n",
       "      <td>Помогите начальник Льговского рэс не реагирует...</td>\n",
       "    </tr>\n",
       "    <tr>\n",
       "      <th>380</th>\n",
       "      <td>3</td>\n",
       "      <td>&lt;p&gt;По фасаду дома по адресу ул. Урицкого 22 пр...</td>\n",
       "    </tr>\n",
       "    <tr>\n",
       "      <th>2240</th>\n",
       "      <td>1</td>\n",
       "      <td>Агресивные собаки. На радуге там стая из подро...</td>\n",
       "    </tr>\n",
       "    <tr>\n",
       "      <th>596</th>\n",
       "      <td>3</td>\n",
       "      <td>&lt;p&gt;На пересечении &amp;nbsp;улиц Сосновская и Бере...</td>\n",
       "    </tr>\n",
       "    <tr>\n",
       "      <th>1797</th>\n",
       "      <td>3</td>\n",
       "      <td>&lt;p style=`text-align:justify;`&gt;&lt;span style=`ba...</td>\n",
       "    </tr>\n",
       "  </tbody>\n",
       "</table>\n",
       "</div>"
      ],
      "text/plain": [
       "      Категория                                               text\n",
       "id                                                                \n",
       "2246          3  Помогите начальник Льговского рэс не реагирует...\n",
       "380           3  <p>По фасаду дома по адресу ул. Урицкого 22 пр...\n",
       "2240          1  Агресивные собаки. На радуге там стая из подро...\n",
       "596           3  <p>На пересечении &nbsp;улиц Сосновская и Бере...\n",
       "1797          3  <p style=`text-align:justify;`><span style=`ba..."
      ]
     },
     "execution_count": 232,
     "metadata": {},
     "output_type": "execute_result"
    }
   ],
   "source": [
    "# Объединение текстовых колонок в одну\n",
    "#data[\"text\"] = data['Текст Сообщения'].astype(str) + \" \" + data['Тематика'].astype(str) + \" \" + data['Ответственное лицо'].astype(str)\n",
    "data[\"text\"] = data['Текст Сообщения'].astype(str) \n",
    "\n",
    "# Удаление лишних колонок\n",
    "data = data.drop(columns=['Текст Сообщения', 'Тематика', 'Ответственное лицо'])\n",
    "data.head()"
   ]
  },
  {
   "cell_type": "code",
   "execution_count": 233,
   "metadata": {},
   "outputs": [
    {
     "name": "stdout",
     "output_type": "stream",
     "text": [
      "Количество строк (объектов) 2000\n",
      "Количество cлов в строке 51.445\n",
      "Соотношение:  38.8764700165225\n"
     ]
    }
   ],
   "source": [
    "# Подсчет соотношения часла строк к число слов в строке\n",
    "number_of_samples = len(data)\n",
    "print(\"Количество строк (объектов)\" , number_of_samples)\n",
    "\n",
    "number_of_words = 0\n",
    "for index, row in data.iterrows():\n",
    "    words = row['text'].split()\n",
    "    number_of_words += len(words)\n",
    "number_of_words_per_sample = number_of_words / len(data)\n",
    "print(\"Количество cлов в строке\" , number_of_words_per_sample)\n",
    "\n",
    "ratio = number_of_samples / number_of_words_per_sample\n",
    "print(\"Соотношение: \" , ratio)\n",
    "\n",
    "# Проводим выбор метода машинного обучения (модели) на основе вычисленного показателя"
   ]
  },
  {
   "cell_type": "markdown",
   "metadata": {
    "id": "WcxAsO_Md05t"
   },
   "source": [
    "## Предварительная обработка текста"
   ]
  },
  {
   "cell_type": "code",
   "execution_count": 234,
   "metadata": {},
   "outputs": [
    {
     "name": "stderr",
     "output_type": "stream",
     "text": [
      "C:\\Python\\Python310\\lib\\site-packages\\bs4\\__init__.py:435: MarkupResemblesLocatorWarning: The input looks more like a filename than markup. You may want to open this file and pass the filehandle into Beautiful Soup.\n",
      "  warnings.warn(\n"
     ]
    },
    {
     "data": {
      "text/html": [
       "<div>\n",
       "<style scoped>\n",
       "    .dataframe tbody tr th:only-of-type {\n",
       "        vertical-align: middle;\n",
       "    }\n",
       "\n",
       "    .dataframe tbody tr th {\n",
       "        vertical-align: top;\n",
       "    }\n",
       "\n",
       "    .dataframe thead th {\n",
       "        text-align: right;\n",
       "    }\n",
       "</style>\n",
       "<table border=\"1\" class=\"dataframe\">\n",
       "  <thead>\n",
       "    <tr style=\"text-align: right;\">\n",
       "      <th></th>\n",
       "      <th>Категория</th>\n",
       "      <th>text</th>\n",
       "      <th>text_processed</th>\n",
       "    </tr>\n",
       "    <tr>\n",
       "      <th>id</th>\n",
       "      <th></th>\n",
       "      <th></th>\n",
       "      <th></th>\n",
       "    </tr>\n",
       "  </thead>\n",
       "  <tbody>\n",
       "    <tr>\n",
       "      <th>2246</th>\n",
       "      <td>3</td>\n",
       "      <td>Помогите начальник Льговского рэс не реагирует...</td>\n",
       "      <td>помогите начальник льговского рэс не реагирует...</td>\n",
       "    </tr>\n",
       "    <tr>\n",
       "      <th>380</th>\n",
       "      <td>3</td>\n",
       "      <td>&lt;p&gt;По фасаду дома по адресу ул. Урицкого 22 пр...</td>\n",
       "      <td>по фасаду дома по адресу ул урицкого проходит ...</td>\n",
       "    </tr>\n",
       "    <tr>\n",
       "      <th>2240</th>\n",
       "      <td>1</td>\n",
       "      <td>Агресивные собаки. На радуге там стая из подро...</td>\n",
       "      <td>агресивные собаки на радуге там стая из подрос...</td>\n",
       "    </tr>\n",
       "    <tr>\n",
       "      <th>596</th>\n",
       "      <td>3</td>\n",
       "      <td>&lt;p&gt;На пересечении &amp;nbsp;улиц Сосновская и Бере...</td>\n",
       "      <td>на пересечении улиц сосновская и береговая зав...</td>\n",
       "    </tr>\n",
       "    <tr>\n",
       "      <th>1797</th>\n",
       "      <td>3</td>\n",
       "      <td>&lt;p style=`text-align:justify;`&gt;&lt;span style=`ba...</td>\n",
       "      <td>здравствуйте рядом с домом «а» по улице светла...</td>\n",
       "    </tr>\n",
       "  </tbody>\n",
       "</table>\n",
       "</div>"
      ],
      "text/plain": [
       "      Категория                                               text  \\\n",
       "id                                                                   \n",
       "2246          3  Помогите начальник Льговского рэс не реагирует...   \n",
       "380           3  <p>По фасаду дома по адресу ул. Урицкого 22 пр...   \n",
       "2240          1  Агресивные собаки. На радуге там стая из подро...   \n",
       "596           3  <p>На пересечении &nbsp;улиц Сосновская и Бере...   \n",
       "1797          3  <p style=`text-align:justify;`><span style=`ba...   \n",
       "\n",
       "                                         text_processed  \n",
       "id                                                       \n",
       "2246  помогите начальник льговского рэс не реагирует...  \n",
       "380   по фасаду дома по адресу ул урицкого проходит ...  \n",
       "2240  агресивные собаки на радуге там стая из подрос...  \n",
       "596   на пересечении улиц сосновская и береговая зав...  \n",
       "1797  здравствуйте рядом с домом «а» по улице светла...  "
      ]
     },
     "execution_count": 234,
     "metadata": {},
     "output_type": "execute_result"
    }
   ],
   "source": [
    "from string import punctuation  # Модуль для работы со строками\n",
    "\n",
    "# Удаление символов пунктуации\n",
    "def remove_punctuation(my_string):\n",
    "    return \"\".join([ch if ch not in punctuation else ' ' for ch in my_string]) # Замена на пробелы!!!\n",
    "\n",
    "# Удаление чисел\n",
    "def remove_numbers(my_string):\n",
    "    return ''.join([i if not i.isdigit() else ' ' for i in my_string])\n",
    "\n",
    "# Замена множественных пробелов на одинарный пробел\n",
    "import re\n",
    "def remove_multiple_spaces(my_string):\n",
    "    return re.sub(r'\\s+', ' ', my_string, flags=re.I)\n",
    "\n",
    "CLEANR = re.compile('<.*?>|&([a-z0-9]+|#[0-9]{1,6}|#x[0-9a-f]{1,6});')\n",
    "def cleanhtml(raw_html):\n",
    "    cleantext = re.sub(CLEANR, '', raw_html)\n",
    "    return cleantext\n",
    "\n",
    "# Обработка строк + дополнительно приведение к нижнему регистру\n",
    "def preproccessing(text):\n",
    "    s = BeautifulSoup(text, \"lxml\").text # используем спецбиблиотеку\n",
    "#    s = cleanhtml(text)\n",
    "    s = s.lower()\n",
    "    s = remove_punctuation(s)\n",
    "    s = remove_numbers(s)\n",
    "    s = remove_multiple_spaces(s)\n",
    "    return s\n",
    "\n",
    "# Создаем колонку в датасете для обработанного текста\n",
    "data['text_processed'] = list(map(preproccessing, data['text']))\n",
    "data.head()"
   ]
  },
  {
   "cell_type": "code",
   "execution_count": 235,
   "metadata": {
    "colab": {
     "base_uri": "https://localhost:8080/",
     "height": 239
    },
    "id": "I16XfuOpXwIy",
    "outputId": "6cc7e74b-a66d-4696-eb17-c03df995c472"
   },
   "outputs": [
    {
     "data": {
      "text/html": [
       "<div>\n",
       "<style scoped>\n",
       "    .dataframe tbody tr th:only-of-type {\n",
       "        vertical-align: middle;\n",
       "    }\n",
       "\n",
       "    .dataframe tbody tr th {\n",
       "        vertical-align: top;\n",
       "    }\n",
       "\n",
       "    .dataframe thead th {\n",
       "        text-align: right;\n",
       "    }\n",
       "</style>\n",
       "<table border=\"1\" class=\"dataframe\">\n",
       "  <thead>\n",
       "    <tr style=\"text-align: right;\">\n",
       "      <th></th>\n",
       "      <th>id</th>\n",
       "      <th>Текст Сообщения</th>\n",
       "      <th>Тематика</th>\n",
       "      <th>Ответственное лицо</th>\n",
       "      <th>Категория</th>\n",
       "    </tr>\n",
       "  </thead>\n",
       "  <tbody>\n",
       "    <tr>\n",
       "      <th>0</th>\n",
       "      <td>2246</td>\n",
       "      <td>Помогите начальник Льговского рэс не реагирует...</td>\n",
       "      <td>Нарушения, связанные с содержанием электросети...</td>\n",
       "      <td>Администрация Льговского района</td>\n",
       "      <td>3</td>\n",
       "    </tr>\n",
       "    <tr>\n",
       "      <th>1</th>\n",
       "      <td>380</td>\n",
       "      <td>&lt;p&gt;По фасаду дома по адресу ул. Урицкого 22 пр...</td>\n",
       "      <td>Аварийные деревья</td>\n",
       "      <td>Администрация города Курска</td>\n",
       "      <td>3</td>\n",
       "    </tr>\n",
       "    <tr>\n",
       "      <th>2</th>\n",
       "      <td>2240</td>\n",
       "      <td>Агресивные собаки. На радуге там стая из подро...</td>\n",
       "      <td>Безнадзорные животные</td>\n",
       "      <td>Администрация города Курска</td>\n",
       "      <td>1</td>\n",
       "    </tr>\n",
       "  </tbody>\n",
       "</table>\n",
       "</div>"
      ],
      "text/plain": [
       "     id                                    Текст Сообщения  \\\n",
       "0  2246  Помогите начальник Льговского рэс не реагирует...   \n",
       "1   380  <p>По фасаду дома по адресу ул. Урицкого 22 пр...   \n",
       "2  2240  Агресивные собаки. На радуге там стая из подро...   \n",
       "\n",
       "                                            Тематика  \\\n",
       "0  Нарушения, связанные с содержанием электросети...   \n",
       "1                                  Аварийные деревья   \n",
       "2                              Безнадзорные животные   \n",
       "\n",
       "                Ответственное лицо  Категория  \n",
       "0  Администрация Льговского района          3  \n",
       "1      Администрация города Курска          3  \n",
       "2      Администрация города Курска          1  "
      ]
     },
     "execution_count": 235,
     "metadata": {},
     "output_type": "execute_result"
    }
   ],
   "source": [
    "df.head(3)"
   ]
  },
  {
   "cell_type": "code",
   "execution_count": 236,
   "metadata": {},
   "outputs": [],
   "source": [
    "# Займемся лемматизацией\n",
    "morph = pymorphy2.MorphAnalyzer()"
   ]
  },
  {
   "cell_type": "code",
   "execution_count": 237,
   "metadata": {},
   "outputs": [
    {
     "name": "stderr",
     "output_type": "stream",
     "text": [
      "[nltk_data] Downloading package stopwords to\n",
      "[nltk_data]     C:\\Users\\Сергей\\AppData\\Roaming\\nltk_data...\n",
      "[nltk_data]   Package stopwords is already up-to-date!\n",
      "[nltk_data] Downloading package punkt to\n",
      "[nltk_data]     C:\\Users\\Сергей\\AppData\\Roaming\\nltk_data...\n",
      "[nltk_data]   Package punkt is already up-to-date!\n"
     ]
    },
    {
     "data": {
      "text/plain": [
       "True"
      ]
     },
     "execution_count": 237,
     "metadata": {},
     "output_type": "execute_result"
    }
   ],
   "source": [
    "nltk.download('stopwords')                        # Загрузка стоп-слов\n",
    "nltk.download('punkt')                            # Загрузка символов пунктуации"
   ]
  },
  {
   "cell_type": "code",
   "execution_count": 238,
   "metadata": {},
   "outputs": [],
   "source": [
    "russian_stopwords = stopwords.words(\"russian\")    # Список стоп-слов для русского языка\n",
    "# Расширение списка стоп-слов (см. набор данных)\n",
    "russian_stopwords.extend(['…', '«', '»', '...', 'т.д.', 'т', 'д', 'nan', 'г', '“', '”',])"
   ]
  },
  {
   "cell_type": "code",
   "execution_count": 239,
   "metadata": {},
   "outputs": [
    {
     "data": {
      "application/vnd.jupyter.widget-view+json": {
       "model_id": "3547d31f3496406f9f38ed250ddc74b9",
       "version_major": 2,
       "version_minor": 0
      },
      "text/plain": [
       "  0%|          | 0/2000 [00:00<?, ?it/s]"
      ]
     },
     "metadata": {},
     "output_type": "display_data"
    }
   ],
   "source": [
    "# Провердим лемматизацию и избавляемся от стоп-слов\n",
    "lemm_texts_column = []\n",
    "for text in tqdm(data['text_processed']):\n",
    "    tokens = word_tokenize(text)    \n",
    "    lemmed_tokens = [morph.parse(token)[0].normal_form for token in tokens if token not in russian_stopwords]\n",
    "    text = \" \".join(lemmed_tokens)\n",
    "    lemm_texts_column.append(text)\n",
    "    \n",
    "# Создаем новую колонку в наборе данных\n",
    "data['text_lemmed'] = lemm_texts_column"
   ]
  },
  {
   "cell_type": "code",
   "execution_count": 240,
   "metadata": {},
   "outputs": [],
   "source": [
    "#data['text_lemmed'][380]"
   ]
  },
  {
   "cell_type": "code",
   "execution_count": 241,
   "metadata": {},
   "outputs": [
    {
     "data": {
      "text/plain": [
       "id\n",
       "2246    помочь начальник льговский рэс реагировать жал...\n",
       "380     фасад дом адрес ул урицкий проходить труба газ...\n",
       "2240    агресивный собака радуга стая подрасти щенок з...\n",
       "596     пересечение улица сосновский береговой завалит...\n",
       "1797    здравствуйте рядом дом улица светлый вне придо...\n",
       "                              ...                        \n",
       "1356         вечерний время появиться вонь грибной радуга\n",
       "243     добрый день хотеть сообщить проблема возле наш...\n",
       "2350    состоять засохнуть дерево больший берёза один ...\n",
       "1937    пожалуйста роман владимирович скорый время кур...\n",
       "1185    сдать пцр тест результат тест портал госуслуга...\n",
       "Name: text_lemmed, Length: 2000, dtype: object"
      ]
     },
     "execution_count": 241,
     "metadata": {},
     "output_type": "execute_result"
    }
   ],
   "source": [
    "data['text_lemmed']"
   ]
  },
  {
   "cell_type": "code",
   "execution_count": 242,
   "metadata": {
    "colab": {
     "base_uri": "https://localhost:8080/"
    },
    "id": "czcOBmDFduKQ",
    "outputId": "f50b9f48-aa77-4061-a6fa-fa567ab6a497"
   },
   "outputs": [
    {
     "data": {
      "text/html": [
       "<div>\n",
       "<style scoped>\n",
       "    .dataframe tbody tr th:only-of-type {\n",
       "        vertical-align: middle;\n",
       "    }\n",
       "\n",
       "    .dataframe tbody tr th {\n",
       "        vertical-align: top;\n",
       "    }\n",
       "\n",
       "    .dataframe thead th {\n",
       "        text-align: right;\n",
       "    }\n",
       "</style>\n",
       "<table border=\"1\" class=\"dataframe\">\n",
       "  <thead>\n",
       "    <tr style=\"text-align: right;\">\n",
       "      <th></th>\n",
       "      <th>Категория</th>\n",
       "      <th>text</th>\n",
       "      <th>text_processed</th>\n",
       "      <th>text_lemmed</th>\n",
       "    </tr>\n",
       "    <tr>\n",
       "      <th>id</th>\n",
       "      <th></th>\n",
       "      <th></th>\n",
       "      <th></th>\n",
       "      <th></th>\n",
       "    </tr>\n",
       "  </thead>\n",
       "  <tbody>\n",
       "    <tr>\n",
       "      <th>2246</th>\n",
       "      <td>3</td>\n",
       "      <td>Помогите начальник Льговского рэс не реагирует...</td>\n",
       "      <td>помогите начальник льговского рэс не реагирует...</td>\n",
       "      <td>помочь начальник льговский рэс реагировать жал...</td>\n",
       "    </tr>\n",
       "    <tr>\n",
       "      <th>380</th>\n",
       "      <td>3</td>\n",
       "      <td>&lt;p&gt;По фасаду дома по адресу ул. Урицкого 22 пр...</td>\n",
       "      <td>по фасаду дома по адресу ул урицкого проходит ...</td>\n",
       "      <td>фасад дом адрес ул урицкий проходить труба газ...</td>\n",
       "    </tr>\n",
       "    <tr>\n",
       "      <th>2240</th>\n",
       "      <td>1</td>\n",
       "      <td>Агресивные собаки. На радуге там стая из подро...</td>\n",
       "      <td>агресивные собаки на радуге там стая из подрос...</td>\n",
       "      <td>агресивный собака радуга стая подрасти щенок з...</td>\n",
       "    </tr>\n",
       "    <tr>\n",
       "      <th>596</th>\n",
       "      <td>3</td>\n",
       "      <td>&lt;p&gt;На пересечении &amp;nbsp;улиц Сосновская и Бере...</td>\n",
       "      <td>на пересечении улиц сосновская и береговая зав...</td>\n",
       "      <td>пересечение улица сосновский береговой завалит...</td>\n",
       "    </tr>\n",
       "    <tr>\n",
       "      <th>1797</th>\n",
       "      <td>3</td>\n",
       "      <td>&lt;p style=`text-align:justify;`&gt;&lt;span style=`ba...</td>\n",
       "      <td>здравствуйте рядом с домом «а» по улице светла...</td>\n",
       "      <td>здравствуйте рядом дом улица светлый вне придо...</td>\n",
       "    </tr>\n",
       "  </tbody>\n",
       "</table>\n",
       "</div>"
      ],
      "text/plain": [
       "      Категория                                               text  \\\n",
       "id                                                                   \n",
       "2246          3  Помогите начальник Льговского рэс не реагирует...   \n",
       "380           3  <p>По фасаду дома по адресу ул. Урицкого 22 пр...   \n",
       "2240          1  Агресивные собаки. На радуге там стая из подро...   \n",
       "596           3  <p>На пересечении &nbsp;улиц Сосновская и Бере...   \n",
       "1797          3  <p style=`text-align:justify;`><span style=`ba...   \n",
       "\n",
       "                                         text_processed  \\\n",
       "id                                                        \n",
       "2246  помогите начальник льговского рэс не реагирует...   \n",
       "380   по фасаду дома по адресу ул урицкого проходит ...   \n",
       "2240  агресивные собаки на радуге там стая из подрос...   \n",
       "596   на пересечении улиц сосновская и береговая зав...   \n",
       "1797  здравствуйте рядом с домом «а» по улице светла...   \n",
       "\n",
       "                                            text_lemmed  \n",
       "id                                                       \n",
       "2246  помочь начальник льговский рэс реагировать жал...  \n",
       "380   фасад дом адрес ул урицкий проходить труба газ...  \n",
       "2240  агресивный собака радуга стая подрасти щенок з...  \n",
       "596   пересечение улица сосновский береговой завалит...  \n",
       "1797  здравствуйте рядом дом улица светлый вне придо...  "
      ]
     },
     "execution_count": 242,
     "metadata": {},
     "output_type": "execute_result"
    }
   ],
   "source": [
    "data.head()"
   ]
  },
  {
   "cell_type": "code",
   "execution_count": 243,
   "metadata": {},
   "outputs": [
    {
     "data": {
      "text/plain": [
       "array([[0., 0., 0., ..., 0., 0., 0.],\n",
       "       [0., 0., 0., ..., 0., 0., 0.],\n",
       "       [0., 0., 0., ..., 0., 0., 0.],\n",
       "       ...,\n",
       "       [0., 0., 0., ..., 0., 0., 0.],\n",
       "       [0., 0., 0., ..., 0., 0., 0.],\n",
       "       [0., 0., 0., ..., 0., 0., 0.]])"
      ]
     },
     "execution_count": 243,
     "metadata": {},
     "output_type": "execute_result"
    }
   ],
   "source": [
    "# Взвешиваем важность слов и создаем матрицу признаков\n",
    "tfidf = TfidfVectorizer()\n",
    "feature_matrix = tfidf.fit_transform(data['text_lemmed'])\n",
    "feature_matrix.toarray()"
   ]
  },
  {
   "cell_type": "markdown",
   "metadata": {},
   "source": [
    "## Финальный датасет"
   ]
  },
  {
   "cell_type": "code",
   "execution_count": 244,
   "metadata": {},
   "outputs": [],
   "source": [
    "# Матрица признаков\n",
    "X = data['text_lemmed']\n",
    "\n",
    "# Вектор значений целевых переменных\n",
    "y = data['Категория']\n",
    "\n",
    "labels = data['Категория'].unique() # Массив уникальных меток"
   ]
  },
  {
   "cell_type": "code",
   "execution_count": 245,
   "metadata": {},
   "outputs": [],
   "source": [
    "# Разбиение на обучающую выборку (70%) и тестовую выборку (30%)\n",
    "X_train, X_test, y_train, y_test = train_test_split(X, y, test_size=0.3)"
   ]
  },
  {
   "cell_type": "markdown",
   "metadata": {},
   "source": [
    "## Метод опорных векторов (SVM)"
   ]
  },
  {
   "cell_type": "code",
   "execution_count": 246,
   "metadata": {},
   "outputs": [],
   "source": [
    "# Загрузка SVM\n",
    "sgd = Pipeline([('vect', CountVectorizer(ngram_range=(1, 1))),\n",
    "                ('tfidf', TfidfTransformer()),\n",
    "                ('clf', SGDClassifier(loss='hinge', penalty='l2',alpha=1e-3, random_state=0, max_iter=10, tol=None)),\n",
    "               ])"
   ]
  },
  {
   "cell_type": "code",
   "execution_count": 247,
   "metadata": {},
   "outputs": [
    {
     "name": "stdout",
     "output_type": "stream",
     "text": [
      "CPU times: total: 141 ms\n",
      "Wall time: 158 ms\n"
     ]
    },
    {
     "data": {
      "text/html": [
       "<style>#sk-container-id-5 {color: black;background-color: white;}#sk-container-id-5 pre{padding: 0;}#sk-container-id-5 div.sk-toggleable {background-color: white;}#sk-container-id-5 label.sk-toggleable__label {cursor: pointer;display: block;width: 100%;margin-bottom: 0;padding: 0.3em;box-sizing: border-box;text-align: center;}#sk-container-id-5 label.sk-toggleable__label-arrow:before {content: \"▸\";float: left;margin-right: 0.25em;color: #696969;}#sk-container-id-5 label.sk-toggleable__label-arrow:hover:before {color: black;}#sk-container-id-5 div.sk-estimator:hover label.sk-toggleable__label-arrow:before {color: black;}#sk-container-id-5 div.sk-toggleable__content {max-height: 0;max-width: 0;overflow: hidden;text-align: left;background-color: #f0f8ff;}#sk-container-id-5 div.sk-toggleable__content pre {margin: 0.2em;color: black;border-radius: 0.25em;background-color: #f0f8ff;}#sk-container-id-5 input.sk-toggleable__control:checked~div.sk-toggleable__content {max-height: 200px;max-width: 100%;overflow: auto;}#sk-container-id-5 input.sk-toggleable__control:checked~label.sk-toggleable__label-arrow:before {content: \"▾\";}#sk-container-id-5 div.sk-estimator input.sk-toggleable__control:checked~label.sk-toggleable__label {background-color: #d4ebff;}#sk-container-id-5 div.sk-label input.sk-toggleable__control:checked~label.sk-toggleable__label {background-color: #d4ebff;}#sk-container-id-5 input.sk-hidden--visually {border: 0;clip: rect(1px 1px 1px 1px);clip: rect(1px, 1px, 1px, 1px);height: 1px;margin: -1px;overflow: hidden;padding: 0;position: absolute;width: 1px;}#sk-container-id-5 div.sk-estimator {font-family: monospace;background-color: #f0f8ff;border: 1px dotted black;border-radius: 0.25em;box-sizing: border-box;margin-bottom: 0.5em;}#sk-container-id-5 div.sk-estimator:hover {background-color: #d4ebff;}#sk-container-id-5 div.sk-parallel-item::after {content: \"\";width: 100%;border-bottom: 1px solid gray;flex-grow: 1;}#sk-container-id-5 div.sk-label:hover label.sk-toggleable__label {background-color: #d4ebff;}#sk-container-id-5 div.sk-serial::before {content: \"\";position: absolute;border-left: 1px solid gray;box-sizing: border-box;top: 0;bottom: 0;left: 50%;z-index: 0;}#sk-container-id-5 div.sk-serial {display: flex;flex-direction: column;align-items: center;background-color: white;padding-right: 0.2em;padding-left: 0.2em;position: relative;}#sk-container-id-5 div.sk-item {position: relative;z-index: 1;}#sk-container-id-5 div.sk-parallel {display: flex;align-items: stretch;justify-content: center;background-color: white;position: relative;}#sk-container-id-5 div.sk-item::before, #sk-container-id-5 div.sk-parallel-item::before {content: \"\";position: absolute;border-left: 1px solid gray;box-sizing: border-box;top: 0;bottom: 0;left: 50%;z-index: -1;}#sk-container-id-5 div.sk-parallel-item {display: flex;flex-direction: column;z-index: 1;position: relative;background-color: white;}#sk-container-id-5 div.sk-parallel-item:first-child::after {align-self: flex-end;width: 50%;}#sk-container-id-5 div.sk-parallel-item:last-child::after {align-self: flex-start;width: 50%;}#sk-container-id-5 div.sk-parallel-item:only-child::after {width: 0;}#sk-container-id-5 div.sk-dashed-wrapped {border: 1px dashed gray;margin: 0 0.4em 0.5em 0.4em;box-sizing: border-box;padding-bottom: 0.4em;background-color: white;}#sk-container-id-5 div.sk-label label {font-family: monospace;font-weight: bold;display: inline-block;line-height: 1.2em;}#sk-container-id-5 div.sk-label-container {text-align: center;}#sk-container-id-5 div.sk-container {/* jupyter's `normalize.less` sets `[hidden] { display: none; }` but bootstrap.min.css set `[hidden] { display: none !important; }` so we also need the `!important` here to be able to override the default hidden behavior on the sphinx rendered scikit-learn.org. See: https://github.com/scikit-learn/scikit-learn/issues/21755 */display: inline-block !important;position: relative;}#sk-container-id-5 div.sk-text-repr-fallback {display: none;}</style><div id=\"sk-container-id-5\" class=\"sk-top-container\"><div class=\"sk-text-repr-fallback\"><pre>Pipeline(steps=[(&#x27;vect&#x27;, CountVectorizer()), (&#x27;tfidf&#x27;, TfidfTransformer()),\n",
       "                (&#x27;clf&#x27;,\n",
       "                 SGDClassifier(alpha=0.001, max_iter=10, random_state=0,\n",
       "                               tol=None))])</pre><b>In a Jupyter environment, please rerun this cell to show the HTML representation or trust the notebook. <br />On GitHub, the HTML representation is unable to render, please try loading this page with nbviewer.org.</b></div><div class=\"sk-container\" hidden><div class=\"sk-item sk-dashed-wrapped\"><div class=\"sk-label-container\"><div class=\"sk-label sk-toggleable\"><input class=\"sk-toggleable__control sk-hidden--visually\" id=\"sk-estimator-id-17\" type=\"checkbox\" ><label for=\"sk-estimator-id-17\" class=\"sk-toggleable__label sk-toggleable__label-arrow\">Pipeline</label><div class=\"sk-toggleable__content\"><pre>Pipeline(steps=[(&#x27;vect&#x27;, CountVectorizer()), (&#x27;tfidf&#x27;, TfidfTransformer()),\n",
       "                (&#x27;clf&#x27;,\n",
       "                 SGDClassifier(alpha=0.001, max_iter=10, random_state=0,\n",
       "                               tol=None))])</pre></div></div></div><div class=\"sk-serial\"><div class=\"sk-item\"><div class=\"sk-estimator sk-toggleable\"><input class=\"sk-toggleable__control sk-hidden--visually\" id=\"sk-estimator-id-18\" type=\"checkbox\" ><label for=\"sk-estimator-id-18\" class=\"sk-toggleable__label sk-toggleable__label-arrow\">CountVectorizer</label><div class=\"sk-toggleable__content\"><pre>CountVectorizer()</pre></div></div></div><div class=\"sk-item\"><div class=\"sk-estimator sk-toggleable\"><input class=\"sk-toggleable__control sk-hidden--visually\" id=\"sk-estimator-id-19\" type=\"checkbox\" ><label for=\"sk-estimator-id-19\" class=\"sk-toggleable__label sk-toggleable__label-arrow\">TfidfTransformer</label><div class=\"sk-toggleable__content\"><pre>TfidfTransformer()</pre></div></div></div><div class=\"sk-item\"><div class=\"sk-estimator sk-toggleable\"><input class=\"sk-toggleable__control sk-hidden--visually\" id=\"sk-estimator-id-20\" type=\"checkbox\" ><label for=\"sk-estimator-id-20\" class=\"sk-toggleable__label sk-toggleable__label-arrow\">SGDClassifier</label><div class=\"sk-toggleable__content\"><pre>SGDClassifier(alpha=0.001, max_iter=10, random_state=0, tol=None)</pre></div></div></div></div></div></div></div>"
      ],
      "text/plain": [
       "Pipeline(steps=[('vect', CountVectorizer()), ('tfidf', TfidfTransformer()),\n",
       "                ('clf',\n",
       "                 SGDClassifier(alpha=0.001, max_iter=10, random_state=0,\n",
       "                               tol=None))])"
      ]
     },
     "execution_count": 247,
     "metadata": {},
     "output_type": "execute_result"
    }
   ],
   "source": [
    "%%time\n",
    "sgd.fit(X_train, y_train)  # Обучение модели"
   ]
  },
  {
   "cell_type": "code",
   "execution_count": 248,
   "metadata": {},
   "outputs": [
    {
     "name": "stdout",
     "output_type": "stream",
     "text": [
      "CPU times: total: 31.2 ms\n",
      "Wall time: 49 ms\n"
     ]
    }
   ],
   "source": [
    "%%time\n",
    "y_pred = sgd.predict(X_test) # Предсказание на тестовых данных"
   ]
  },
  {
   "cell_type": "code",
   "execution_count": 249,
   "metadata": {},
   "outputs": [
    {
     "name": "stdout",
     "output_type": "stream",
     "text": [
      "accuracy 0.7983333333333333\n"
     ]
    }
   ],
   "source": [
    "# Оценка точности классификации\n",
    "print('accuracy %s' % accuracy_score(y_pred, y_test))\n",
    "#print(classification_report(y_test, y_pred, target_names=labels))"
   ]
  },
  {
   "cell_type": "code",
   "execution_count": 250,
   "metadata": {},
   "outputs": [
    {
     "data": {
      "text/plain": [
       "['model.pkl']"
      ]
     },
     "execution_count": 250,
     "metadata": {},
     "output_type": "execute_result"
    }
   ],
   "source": [
    "#from sklearn.externals import joblib\n",
    "import joblib\n",
    "joblib.dump(sgd, 'model.pkl')"
   ]
  },
  {
   "cell_type": "markdown",
   "metadata": {},
   "source": [
    "## Готовим тестовый датасет"
   ]
  },
  {
   "cell_type": "code",
   "execution_count": 251,
   "metadata": {},
   "outputs": [],
   "source": [
    "fittedModel = joblib.load('model.pkl')\n",
    "#fittedModel.predict(X_new)  # X_new is unseen example to be predicted"
   ]
  },
  {
   "cell_type": "code",
   "execution_count": 252,
   "metadata": {},
   "outputs": [],
   "source": [
    "tdf = pd.read_csv(\"./content/test_dataset_test.csv\")"
   ]
  },
  {
   "cell_type": "code",
   "execution_count": 253,
   "metadata": {},
   "outputs": [],
   "source": [
    "#len(tdf)"
   ]
  },
  {
   "cell_type": "code",
   "execution_count": 254,
   "metadata": {},
   "outputs": [],
   "source": [
    "tdata = tdf.set_index('id') "
   ]
  },
  {
   "cell_type": "code",
   "execution_count": 255,
   "metadata": {},
   "outputs": [],
   "source": [
    "tdata[\"text\"] = tdata['Текст Сообщения'].astype(str) \n",
    "tdata = tdata.drop(columns=['Текст Сообщения', 'Тематика', 'Ответственное лицо'])\n",
    "#tdata.head()"
   ]
  },
  {
   "cell_type": "code",
   "execution_count": 256,
   "metadata": {},
   "outputs": [
    {
     "name": "stderr",
     "output_type": "stream",
     "text": [
      "C:\\Python\\Python310\\lib\\site-packages\\bs4\\__init__.py:435: MarkupResemblesLocatorWarning: The input looks more like a filename than markup. You may want to open this file and pass the filehandle into Beautiful Soup.\n",
      "  warnings.warn(\n"
     ]
    },
    {
     "data": {
      "text/html": [
       "<div>\n",
       "<style scoped>\n",
       "    .dataframe tbody tr th:only-of-type {\n",
       "        vertical-align: middle;\n",
       "    }\n",
       "\n",
       "    .dataframe tbody tr th {\n",
       "        vertical-align: top;\n",
       "    }\n",
       "\n",
       "    .dataframe thead th {\n",
       "        text-align: right;\n",
       "    }\n",
       "</style>\n",
       "<table border=\"1\" class=\"dataframe\">\n",
       "  <thead>\n",
       "    <tr style=\"text-align: right;\">\n",
       "      <th></th>\n",
       "      <th>text</th>\n",
       "      <th>text_processed</th>\n",
       "    </tr>\n",
       "    <tr>\n",
       "      <th>id</th>\n",
       "      <th></th>\n",
       "      <th></th>\n",
       "    </tr>\n",
       "  </thead>\n",
       "  <tbody>\n",
       "    <tr>\n",
       "      <th>843</th>\n",
       "      <td>&lt;p&gt;Здравствуйте. На улице Мира &amp;nbsp;было заме...</td>\n",
       "      <td>здравствуйте на улице мира было заменено наруж...</td>\n",
       "    </tr>\n",
       "    <tr>\n",
       "      <th>1422</th>\n",
       "      <td>&lt;p&gt;Уже вторую неделю не горит уличное освещени...</td>\n",
       "      <td>уже вторую неделю не горит уличное освещение</td>\n",
       "    </tr>\n",
       "    <tr>\n",
       "      <th>2782</th>\n",
       "      <td>Не работает освещение во дворе дома 11а по Эне...</td>\n",
       "      <td>не работает освещение во дворе дома а по энерг...</td>\n",
       "    </tr>\n",
       "    <tr>\n",
       "      <th>2704</th>\n",
       "      <td>После покоса сорной растительности на газоне м...</td>\n",
       "      <td>после покоса сорной растительности на газоне м...</td>\n",
       "    </tr>\n",
       "    <tr>\n",
       "      <th>1</th>\n",
       "      <td>&lt;p&gt;Прошу принять меры к водителю маршрута 263:...</td>\n",
       "      <td>прошу принять меры к водителю маршрута пос сев...</td>\n",
       "    </tr>\n",
       "  </tbody>\n",
       "</table>\n",
       "</div>"
      ],
      "text/plain": [
       "                                                   text  \\\n",
       "id                                                        \n",
       "843   <p>Здравствуйте. На улице Мира &nbsp;было заме...   \n",
       "1422  <p>Уже вторую неделю не горит уличное освещени...   \n",
       "2782  Не работает освещение во дворе дома 11а по Эне...   \n",
       "2704  После покоса сорной растительности на газоне м...   \n",
       "1     <p>Прошу принять меры к водителю маршрута 263:...   \n",
       "\n",
       "                                         text_processed  \n",
       "id                                                       \n",
       "843   здравствуйте на улице мира было заменено наруж...  \n",
       "1422      уже вторую неделю не горит уличное освещение   \n",
       "2782  не работает освещение во дворе дома а по энерг...  \n",
       "2704  после покоса сорной растительности на газоне м...  \n",
       "1     прошу принять меры к водителю маршрута пос сев...  "
      ]
     },
     "execution_count": 256,
     "metadata": {},
     "output_type": "execute_result"
    }
   ],
   "source": [
    "tdata['text_processed'] = list(map(preproccessing, tdata['text']))\n",
    "tdata.head()"
   ]
  },
  {
   "cell_type": "code",
   "execution_count": 257,
   "metadata": {},
   "outputs": [
    {
     "data": {
      "application/vnd.jupyter.widget-view+json": {
       "model_id": "950fb4e976d74e159564a26c0ad146a2",
       "version_major": 2,
       "version_minor": 0
      },
      "text/plain": [
       "  0%|          | 0/1000 [00:00<?, ?it/s]"
      ]
     },
     "metadata": {},
     "output_type": "display_data"
    }
   ],
   "source": [
    "lemm_texts_column = []\n",
    "for text in tqdm(tdata['text_processed']):\n",
    "    tokens = word_tokenize(text)    \n",
    "    lemmed_tokens = [morph.parse(token)[0].normal_form for token in tokens if token not in russian_stopwords]\n",
    "    text = \" \".join(lemmed_tokens)\n",
    "    lemm_texts_column.append(text)\n",
    "    \n",
    "# Создаем новую колонку в наборе данных\n",
    "tdata['text_lemmed'] = lemm_texts_column"
   ]
  },
  {
   "cell_type": "code",
   "execution_count": 258,
   "metadata": {},
   "outputs": [],
   "source": [
    "#tdata['text_lemmed']"
   ]
  },
  {
   "cell_type": "code",
   "execution_count": 259,
   "metadata": {},
   "outputs": [],
   "source": [
    "X_new = tdata['text_lemmed']"
   ]
  },
  {
   "cell_type": "code",
   "execution_count": 260,
   "metadata": {},
   "outputs": [],
   "source": [
    "predicts = fittedModel.predict(X_new)"
   ]
  },
  {
   "cell_type": "code",
   "execution_count": 261,
   "metadata": {},
   "outputs": [
    {
     "data": {
      "text/plain": [
       "array([ 3,  3,  3,  3,  8,  8,  3,  3,  3,  4,  4,  3,  3,  3,  3,  0,  8,\n",
       "        3,  3,  0,  0,  3,  3,  3, 16,  3,  3, 10,  3, 16,  3,  0,  3,  8,\n",
       "        3,  0,  4,  3,  3, 16,  0,  3,  1,  3,  3,  3,  4,  0,  3,  3,  0,\n",
       "        8,  3,  3,  0,  3,  3,  1, 16,  0,  3,  3,  3,  3,  3,  3,  3,  3,\n",
       "        8,  3,  0,  3,  3,  3,  0,  0,  3,  0,  3,  3,  3,  3,  3,  4,  3,\n",
       "        3,  3,  3,  3, 16,  3, 10,  0,  3,  3,  3,  3,  3,  3, 16,  0,  0,\n",
       "        3,  0,  3,  3,  3,  3,  3,  3,  0,  0,  0, 16,  0,  8,  0,  3,  3,\n",
       "        3,  0,  0,  8,  3, 16,  0,  0,  3,  0,  8, 10,  3,  4,  3,  3,  3,\n",
       "        3,  0,  4,  3,  8,  4,  0,  0,  0,  0,  3,  3,  0,  0,  8,  3,  0,\n",
       "        0,  3,  3,  0,  3,  0,  0,  3,  3,  3, 10,  3,  8,  3,  3,  3,  3,\n",
       "        3,  3,  3,  3,  3,  3,  8,  8,  3,  0,  3,  3,  0,  3,  0,  3,  3,\n",
       "        3,  3,  3,  3,  8,  3,  3, 16,  3,  0,  3,  3,  3,  3,  3,  3, 10,\n",
       "        3,  1,  8,  0, 16,  3,  8,  8,  1,  3,  4,  3,  3,  0,  0,  8, 16,\n",
       "        0,  3,  3,  3,  0, 16,  3,  3,  3,  3,  3,  3,  3,  3,  0,  3,  3,\n",
       "       10,  0,  3,  3,  0,  0,  3, 16,  0,  0,  0,  3,  3, 10,  3, 16,  0,\n",
       "        3,  0,  3,  3,  0,  3,  4,  0, 10,  3,  0,  3,  3,  3,  3,  0,  3,\n",
       "        3,  0,  0,  3,  4,  3,  3,  3,  3,  0,  3,  3,  3,  3,  0,  3,  3,\n",
       "        3,  8,  0,  0,  3,  3,  3,  3,  3,  0,  3,  3,  0,  3,  0,  8,  3,\n",
       "        3,  3,  0,  4,  0,  3,  3,  0,  3,  3,  3,  3,  3,  3,  3,  0,  3,\n",
       "        0,  3,  0,  0, 16,  3, 10,  3,  3,  3,  0,  3,  1,  3,  3,  3, 16,\n",
       "        3,  3,  3,  0,  3,  3,  0,  3,  8,  8,  4,  3,  3,  3,  3,  3,  3,\n",
       "        8,  4,  3,  3,  3,  3,  3,  3,  0,  3,  3,  3,  3,  8,  3,  3,  3,\n",
       "       16,  3,  8,  1,  4,  3,  0,  3,  3,  0,  3,  0,  3,  0,  3,  3,  0,\n",
       "        8,  3,  3,  0,  3,  1,  3,  3,  3,  7,  0,  3,  3, 10,  3,  3,  8,\n",
       "        4,  1,  0,  0,  3,  3,  3,  3,  8,  0,  3,  3,  4,  3,  0,  3,  3,\n",
       "        0,  3,  3,  3,  8,  0,  8,  3,  3,  3,  3,  3,  3, 10,  0,  3,  3,\n",
       "        3,  4,  3,  0,  3,  0,  3,  3,  3,  3,  3,  3,  8,  3,  0,  8,  3,\n",
       "        0,  8, 16,  3,  3,  0,  7, 16,  0,  8,  0,  4,  3,  3,  8,  3, 10,\n",
       "        3,  0,  0,  4,  3,  3,  3,  3,  3,  3,  3,  0,  3,  3,  3,  0,  3,\n",
       "       10,  3,  3,  8,  3,  3,  3,  0,  3,  3, 10,  0,  3,  3,  3,  3,  1,\n",
       "        8,  0,  3,  8,  3,  8,  3,  4,  3,  3,  3,  3,  4,  0,  3, 10, 16,\n",
       "        3,  3,  0,  3,  3,  0,  0,  3,  0,  0,  3,  0,  3,  3,  3,  8,  3,\n",
       "        3,  8,  8,  3,  0,  3, 16,  0,  0,  0, 16,  3,  3,  0,  3,  3,  8,\n",
       "       10,  3,  0,  3,  3,  3,  0, 10,  7,  3,  3,  0,  3,  3,  3,  3,  3,\n",
       "        0,  3,  3,  0,  8,  3,  3, 16,  3,  4,  3,  8,  1,  3,  3,  3, 16,\n",
       "        3,  4,  1,  3,  3,  0,  0,  3, 10,  3,  0,  0,  3,  3,  8,  3,  4,\n",
       "        3,  3,  3,  3,  8,  3,  8,  1, 16,  0,  3,  3,  3,  0,  3,  3,  0,\n",
       "        3,  0,  3,  3,  0,  3,  3,  0,  3,  4,  0,  0,  3,  3,  3,  3,  3,\n",
       "        3,  0,  4,  0, 16,  0,  4, 10,  3, 16,  3,  0,  0,  3,  3,  3,  0,\n",
       "        3,  3,  3,  0,  3,  0,  4,  8,  0,  0,  0,  3,  3,  3,  3,  0,  3,\n",
       "        8,  3,  0,  0,  3,  3,  1,  3,  0,  8,  4,  8,  0, 16,  3,  0,  0,\n",
       "        3,  3,  7,  3,  3,  3, 16, 16, 16,  0,  3,  0,  0,  3,  3,  0,  3,\n",
       "        0,  0,  0,  3,  3,  3,  3,  3,  0,  4,  0,  3, 10,  3,  3,  3,  3,\n",
       "        0,  3,  3,  3, 16,  3,  0,  3,  8,  0,  3,  3, 10,  8,  3,  3,  3,\n",
       "        3,  0,  3,  3,  3, 16,  3,  3,  3,  3,  3,  3,  3,  3,  0,  3,  3,\n",
       "        0,  3,  3,  3, 10,  3,  0,  3, 10,  3,  3,  3,  8,  3,  3,  3, 10,\n",
       "        3, 16,  3,  3,  3,  0,  3,  8, 10,  3,  3,  3,  3,  3,  3,  3,  3,\n",
       "        3,  0,  4,  4,  0,  0,  3,  8,  0,  0,  3,  0,  0,  0,  8,  3,  3,\n",
       "       16,  4,  3,  0,  0,  0,  3,  3,  3,  3,  3,  3,  3,  3,  0,  3,  0,\n",
       "        3,  3,  3,  3,  3,  0,  0, 16,  3,  3,  3,  3,  0,  3,  3,  3,  3,\n",
       "        3,  3,  3,  3,  0,  3,  0,  3,  3,  4,  0,  3,  3,  3,  3,  3,  4,\n",
       "        3,  3,  0,  3,  3,  4,  3,  3,  7,  0, 16,  3,  3,  0,  3,  3,  0,\n",
       "        3,  3,  3,  3,  0,  0,  3,  3,  3,  0,  3,  0,  3,  7,  0,  3,  3,\n",
       "        3,  3,  4,  0,  4,  0,  0,  3,  4,  3,  0,  3,  3,  3,  3,  3,  3,\n",
       "        3,  3,  3,  3,  3,  0,  0,  0,  4,  8,  8,  0,  3,  0,  0,  0,  0,\n",
       "        0,  3,  3,  3,  0,  3,  3,  3,  3, 16,  3,  0,  3,  3,  3,  0,  3,\n",
       "        3,  8,  8,  0,  3,  3,  0,  0,  3,  3,  0, 10,  3,  0,  3,  3,  8,\n",
       "        0,  3,  3,  8,  8,  0,  0,  0,  3,  0,  3,  3,  3,  3, 10,  3,  3,\n",
       "        3,  4,  0,  3,  0, 10,  3,  0,  8, 16,  3,  0,  3, 10],\n",
       "      dtype=int64)"
      ]
     },
     "execution_count": 261,
     "metadata": {},
     "output_type": "execute_result"
    }
   ],
   "source": [
    "predicts"
   ]
  },
  {
   "cell_type": "code",
   "execution_count": 262,
   "metadata": {},
   "outputs": [
    {
     "data": {
      "text/plain": [
       "1000"
      ]
     },
     "execution_count": 262,
     "metadata": {},
     "output_type": "execute_result"
    }
   ],
   "source": [
    "len(predicts)"
   ]
  },
  {
   "cell_type": "code",
   "execution_count": 263,
   "metadata": {},
   "outputs": [],
   "source": [
    "test_names = tdata.index.tolist()\n",
    "#test_names"
   ]
  },
  {
   "cell_type": "code",
   "execution_count": 264,
   "metadata": {},
   "outputs": [],
   "source": [
    "submit_df = pd.DataFrame([[name, pred] for name, pred in zip(test_names, predicts.tolist())], columns=['id','Категория'])"
   ]
  },
  {
   "cell_type": "code",
   "execution_count": 265,
   "metadata": {},
   "outputs": [],
   "source": [
    "submit_df.to_csv(\"RSF_submit.csv\", index=False)"
   ]
  }
 ],
 "metadata": {
  "colab": {
   "name": "Курс_baseline.ipynb",
   "provenance": []
  },
  "kernelspec": {
   "display_name": "Python 3 (ipykernel)",
   "language": "python",
   "name": "python3"
  },
  "language_info": {
   "codemirror_mode": {
    "name": "ipython",
    "version": 3
   },
   "file_extension": ".py",
   "mimetype": "text/x-python",
   "name": "python",
   "nbconvert_exporter": "python",
   "pygments_lexer": "ipython3",
   "version": "3.10.4"
  }
 },
 "nbformat": 4,
 "nbformat_minor": 1
}
